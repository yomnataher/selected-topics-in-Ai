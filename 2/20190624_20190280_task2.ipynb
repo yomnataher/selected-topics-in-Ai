{
  "nbformat": 4,
  "nbformat_minor": 0,
  "metadata": {
    "colab": {
      "provenance": [],
      "collapsed_sections": [
        "MsKjwalf1hWG",
        "rOj1LqKJ1u0k",
        "GBrjg9wi17Pf"
      ]
    },
    "kernelspec": {
      "name": "python3",
      "display_name": "Python 3"
    },
    "language_info": {
      "name": "python"
    },
    "accelerator": "GPU",
    "gpuClass": "standard"
  },
  "cells": [
    {
      "cell_type": "markdown",
      "source": [
        "# **Deep-Active**"
      ],
      "metadata": {
        "id": "MsKjwalf1hWG"
      }
    },
    {
      "cell_type": "code",
      "execution_count": 1,
      "metadata": {
        "colab": {
          "base_uri": "https://localhost:8080/"
        },
        "id": "_0kr-7QIj6ZA",
        "outputId": "7fd948f3-34bf-43b5-fdb7-7327150644ef"
      },
      "outputs": [
        {
          "output_type": "stream",
          "name": "stdout",
          "text": [
            "Cloning into 'deep-active-learning'...\n",
            "remote: Enumerating objects: 232, done.\u001b[K\n",
            "remote: Total 232 (delta 0), reused 0 (delta 0), pack-reused 232\u001b[K\n",
            "Receiving objects: 100% (232/232), 44.12 KiB | 1.42 MiB/s, done.\n",
            "Resolving deltas: 100% (141/141), done.\n"
          ]
        }
      ],
      "source": [
        "!git clone https://github.com/ej0cl6/deep-active-learning"
      ]
    },
    {
      "cell_type": "code",
      "source": [
        "%cd deep-active-learning"
      ],
      "metadata": {
        "colab": {
          "base_uri": "https://localhost:8080/"
        },
        "id": "B5FiRCWHkXfU",
        "outputId": "6995e301-cd3b-48d4-9b7b-a96d4c8dbb41"
      },
      "execution_count": 2,
      "outputs": [
        {
          "output_type": "stream",
          "name": "stdout",
          "text": [
            "/content/deep-active-learning\n"
          ]
        }
      ]
    },
    {
      "cell_type": "code",
      "source": [
        "! ls"
      ],
      "metadata": {
        "colab": {
          "base_uri": "https://localhost:8080/"
        },
        "id": "YTT24__NkX0K",
        "outputId": "82e15be0-be16-4605-ef92-61b6b90a6b8e"
      },
      "execution_count": 3,
      "outputs": [
        {
          "output_type": "stream",
          "name": "stdout",
          "text": [
            "data.py  environment.yml  LICENSE  query_strategies  utils.py\n",
            "demo.py  handlers.py\t  nets.py  README.md\n"
          ]
        }
      ]
    },
    {
      "cell_type": "code",
      "source": [
        "!python /content/deep-active-learning/demo.py "
      ],
      "metadata": {
        "colab": {
          "base_uri": "https://localhost:8080/"
        },
        "id": "kRAuCYsvkc2U",
        "outputId": "db606e43-dad4-47b9-e609-d0d50acc6ce1"
      },
      "execution_count": 4,
      "outputs": [
        {
          "output_type": "stream",
          "name": "stdout",
          "text": [
            "{'dataset_name': 'MNIST',\n",
            " 'n_init_labeled': 10000,\n",
            " 'n_query': 1000,\n",
            " 'n_round': 10,\n",
            " 'seed': 1,\n",
            " 'strategy_name': 'RandomSampling'}\n",
            "\n",
            "Downloading http://yann.lecun.com/exdb/mnist/train-images-idx3-ubyte.gz\n",
            "Downloading http://yann.lecun.com/exdb/mnist/train-images-idx3-ubyte.gz to ./data/MNIST/MNIST/raw/train-images-idx3-ubyte.gz\n",
            "100% 9912422/9912422 [00:00<00:00, 96609514.26it/s]\n",
            "Extracting ./data/MNIST/MNIST/raw/train-images-idx3-ubyte.gz to ./data/MNIST/MNIST/raw\n",
            "\n",
            "Downloading http://yann.lecun.com/exdb/mnist/train-labels-idx1-ubyte.gz\n",
            "Downloading http://yann.lecun.com/exdb/mnist/train-labels-idx1-ubyte.gz to ./data/MNIST/MNIST/raw/train-labels-idx1-ubyte.gz\n",
            "100% 28881/28881 [00:00<00:00, 75333142.93it/s]\n",
            "Extracting ./data/MNIST/MNIST/raw/train-labels-idx1-ubyte.gz to ./data/MNIST/MNIST/raw\n",
            "\n",
            "Downloading http://yann.lecun.com/exdb/mnist/t10k-images-idx3-ubyte.gz\n",
            "Downloading http://yann.lecun.com/exdb/mnist/t10k-images-idx3-ubyte.gz to ./data/MNIST/MNIST/raw/t10k-images-idx3-ubyte.gz\n",
            "100% 1648877/1648877 [00:00<00:00, 25375693.10it/s]\n",
            "Extracting ./data/MNIST/MNIST/raw/t10k-images-idx3-ubyte.gz to ./data/MNIST/MNIST/raw\n",
            "\n",
            "Downloading http://yann.lecun.com/exdb/mnist/t10k-labels-idx1-ubyte.gz\n",
            "Downloading http://yann.lecun.com/exdb/mnist/t10k-labels-idx1-ubyte.gz to ./data/MNIST/MNIST/raw/t10k-labels-idx1-ubyte.gz\n",
            "100% 4542/4542 [00:00<00:00, 34325277.06it/s]\n",
            "Extracting ./data/MNIST/MNIST/raw/t10k-labels-idx1-ubyte.gz to ./data/MNIST/MNIST/raw\n",
            "\n",
            "number of labeled pool: 10000\n",
            "number of unlabeled pool: 30000\n",
            "number of testing pool: 10000\n",
            "\n",
            "Round 0\n",
            "100%|███████████████████████████████████████████████████████████████| 10/10 [00:36<00:00,  3.63s/it]\n",
            "Round 0 testing accuracy: 0.9559\n",
            "Round 1\n",
            "100%|███████████████████████████████████████████████████████████████| 10/10 [00:36<00:00,  3.68s/it]\n",
            "Round 1 testing accuracy: 0.9573\n",
            "Round 2\n",
            "100%|███████████████████████████████████████████████████████████████| 10/10 [00:39<00:00,  3.95s/it]\n",
            "Round 2 testing accuracy: 0.9639\n",
            "Round 3\n",
            "100%|███████████████████████████████████████████████████████████████| 10/10 [00:42<00:00,  4.28s/it]\n",
            "Round 3 testing accuracy: 0.9614\n",
            "Round 4\n",
            "100%|███████████████████████████████████████████████████████████████| 10/10 [00:47<00:00,  4.71s/it]\n",
            "Round 4 testing accuracy: 0.9665\n",
            "Round 5\n",
            "100%|███████████████████████████████████████████████████████████████| 10/10 [00:50<00:00,  5.04s/it]\n",
            "Round 5 testing accuracy: 0.9671\n",
            "Round 6\n",
            "100%|███████████████████████████████████████████████████████████████| 10/10 [00:54<00:00,  5.45s/it]\n",
            "Round 6 testing accuracy: 0.9682\n",
            "Round 7\n",
            "100%|███████████████████████████████████████████████████████████████| 10/10 [00:56<00:00,  5.60s/it]\n",
            "Round 7 testing accuracy: 0.9706\n",
            "Round 8\n",
            "100%|███████████████████████████████████████████████████████████████| 10/10 [00:58<00:00,  5.87s/it]\n",
            "Round 8 testing accuracy: 0.9682\n",
            "Round 9\n",
            "100%|███████████████████████████████████████████████████████████████| 10/10 [01:02<00:00,  6.24s/it]\n",
            "Round 9 testing accuracy: 0.9745\n",
            "Round 10\n",
            "100%|███████████████████████████████████████████████████████████████| 10/10 [01:04<00:00,  6.49s/it]\n",
            "Round 10 testing accuracy: 0.9708\n"
          ]
        }
      ]
    },
    {
      "cell_type": "markdown",
      "source": [
        "# **FashionMNIST**"
      ],
      "metadata": {
        "id": "rOj1LqKJ1u0k"
      }
    },
    {
      "cell_type": "code",
      "source": [
        "!python /content/deep-active-learning/demo.py  --seed 1 --n_init_labeled 5000 --n_query 1000 --n_round 10 --dataset_name 'FashionMNIST' --strategy_name 'MarginSampling'"
      ],
      "metadata": {
        "colab": {
          "base_uri": "https://localhost:8080/"
        },
        "id": "hYZBRmcOrWtd",
        "outputId": "7df68224-b134-49c1-bea8-caa53792b41c"
      },
      "execution_count": 7,
      "outputs": [
        {
          "output_type": "stream",
          "name": "stdout",
          "text": [
            "{'dataset_name': 'FashionMNIST',\n",
            " 'n_init_labeled': 5000,\n",
            " 'n_query': 1000,\n",
            " 'n_round': 10,\n",
            " 'seed': 1,\n",
            " 'strategy_name': 'MarginSampling'}\n",
            "\n",
            "number of labeled pool: 5000\n",
            "number of unlabeled pool: 35000\n",
            "number of testing pool: 10000\n",
            "\n",
            "Round 0\n",
            "100%|███████████████████████████████████████████████████████████████| 10/10 [00:19<00:00,  1.97s/it]\n",
            "Round 0 testing accuracy: 0.7167\n",
            "Round 1\n",
            "100%|███████████████████████████████████████████████████████████████| 10/10 [00:20<00:00,  2.01s/it]\n",
            "Round 1 testing accuracy: 0.7453\n",
            "Round 2\n",
            "100%|███████████████████████████████████████████████████████████████| 10/10 [00:23<00:00,  2.38s/it]\n",
            "Round 2 testing accuracy: 0.7577\n",
            "Round 3\n",
            "100%|███████████████████████████████████████████████████████████████| 10/10 [00:27<00:00,  2.70s/it]\n",
            "Round 3 testing accuracy: 0.7492\n",
            "Round 4\n",
            "100%|███████████████████████████████████████████████████████████████| 10/10 [00:30<00:00,  3.02s/it]\n",
            "Round 4 testing accuracy: 0.7795\n",
            "Round 5\n",
            "100%|███████████████████████████████████████████████████████████████| 10/10 [00:34<00:00,  3.43s/it]\n",
            "Round 5 testing accuracy: 0.7829\n",
            "Round 6\n",
            "100%|███████████████████████████████████████████████████████████████| 10/10 [00:37<00:00,  3.70s/it]\n",
            "Round 6 testing accuracy: 0.766\n",
            "Round 7\n",
            "100%|███████████████████████████████████████████████████████████████| 10/10 [00:40<00:00,  4.01s/it]\n",
            "Round 7 testing accuracy: 0.7985\n",
            "Round 8\n",
            "100%|███████████████████████████████████████████████████████████████| 10/10 [00:43<00:00,  4.32s/it]\n",
            "Round 8 testing accuracy: 0.791\n",
            "Round 9\n",
            "100%|███████████████████████████████████████████████████████████████| 10/10 [00:47<00:00,  4.77s/it]\n",
            "Round 9 testing accuracy: 0.8094\n",
            "Round 10\n",
            "100%|███████████████████████████████████████████████████████████████| 10/10 [00:50<00:00,  5.07s/it]\n",
            "Round 10 testing accuracy: 0.8125\n"
          ]
        }
      ]
    },
    {
      "cell_type": "code",
      "source": [
        "!python /content/deep-active-learning/demo.py  --seed 1 --n_init_labeled 5000 --n_query 1000 --n_round 10 --dataset_name 'FashionMNIST' --strategy_name 'LeastConfidence'"
      ],
      "metadata": {
        "colab": {
          "base_uri": "https://localhost:8080/"
        },
        "id": "YbOmuvKNsZPr",
        "outputId": "f95cfc29-3d2d-4726-a840-895675f5bca8"
      },
      "execution_count": 6,
      "outputs": [
        {
          "output_type": "stream",
          "name": "stdout",
          "text": [
            "{'dataset_name': 'FashionMNIST',\n",
            " 'n_init_labeled': 5000,\n",
            " 'n_query': 1000,\n",
            " 'n_round': 10,\n",
            " 'seed': 1,\n",
            " 'strategy_name': 'EntropySampling'}\n",
            "\n",
            "number of labeled pool: 5000\n",
            "number of unlabeled pool: 35000\n",
            "number of testing pool: 10000\n",
            "\n",
            "Round 0\n",
            "100%|███████████████████████████████████████████████████████████████| 10/10 [00:17<00:00,  1.77s/it]\n",
            "Round 0 testing accuracy: 0.7167\n",
            "Round 1\n",
            "100%|███████████████████████████████████████████████████████████████| 10/10 [00:19<00:00,  1.94s/it]\n",
            "Round 1 testing accuracy: 0.7528\n",
            "Round 2\n",
            "100%|███████████████████████████████████████████████████████████████| 10/10 [00:23<00:00,  2.32s/it]\n",
            "Round 2 testing accuracy: 0.7521\n",
            "Round 3\n",
            "100%|███████████████████████████████████████████████████████████████| 10/10 [00:26<00:00,  2.66s/it]\n",
            "Round 3 testing accuracy: 0.7484\n",
            "Round 4\n",
            "100%|███████████████████████████████████████████████████████████████| 10/10 [00:29<00:00,  2.99s/it]\n",
            "Round 4 testing accuracy: 0.7648\n",
            "Round 5\n",
            "100%|███████████████████████████████████████████████████████████████| 10/10 [00:34<00:00,  3.40s/it]\n",
            "Round 5 testing accuracy: 0.7727\n",
            "Round 6\n",
            "100%|███████████████████████████████████████████████████████████████| 10/10 [00:36<00:00,  3.65s/it]\n",
            "Round 6 testing accuracy: 0.7821\n",
            "Round 7\n",
            "100%|███████████████████████████████████████████████████████████████| 10/10 [00:41<00:00,  4.11s/it]\n",
            "Round 7 testing accuracy: 0.771\n",
            "Round 8\n",
            "100%|███████████████████████████████████████████████████████████████| 10/10 [00:43<00:00,  4.37s/it]\n",
            "Round 8 testing accuracy: 0.7787\n",
            "Round 9\n",
            "100%|███████████████████████████████████████████████████████████████| 10/10 [00:46<00:00,  4.63s/it]\n",
            "Round 9 testing accuracy: 0.8064\n",
            "Round 10\n",
            "100%|███████████████████████████████████████████████████████████████| 10/10 [00:49<00:00,  4.96s/it]\n",
            "Round 10 testing accuracy: 0.8038\n"
          ]
        }
      ]
    },
    {
      "cell_type": "code",
      "source": [
        "!python /content/deep-active-learning/demo.py  --seed 1 --n_init_labeled 5000 --n_query 1000 --n_round 10 --dataset_name 'FashionMNIST' --strategy_name 'EntropySampling'"
      ],
      "metadata": {
        "colab": {
          "base_uri": "https://localhost:8080/"
        },
        "id": "QjljlXMt2c1U",
        "outputId": "4b345433-a548-46ff-a8d3-1854d3315225"
      },
      "execution_count": 9,
      "outputs": [
        {
          "output_type": "stream",
          "name": "stdout",
          "text": [
            "{'dataset_name': 'FashionMNIST',\n",
            " 'n_init_labeled': 5000,\n",
            " 'n_query': 1000,\n",
            " 'n_round': 10,\n",
            " 'seed': 1,\n",
            " 'strategy_name': 'EntropySampling'}\n",
            "\n",
            "number of labeled pool: 5000\n",
            "number of unlabeled pool: 35000\n",
            "number of testing pool: 10000\n",
            "\n",
            "Round 0\n",
            "100%|███████████████████████████████████████████████████████████████| 10/10 [00:18<00:00,  1.81s/it]\n",
            "Round 0 testing accuracy: 0.7167\n",
            "Round 1\n",
            "100%|███████████████████████████████████████████████████████████████| 10/10 [00:25<00:00,  2.57s/it]\n",
            "Round 1 testing accuracy: 0.7528\n",
            "Round 2\n",
            "100%|███████████████████████████████████████████████████████████████| 10/10 [00:24<00:00,  2.40s/it]\n",
            "Round 2 testing accuracy: 0.7521\n",
            "Round 3\n",
            "100%|███████████████████████████████████████████████████████████████| 10/10 [00:27<00:00,  2.70s/it]\n",
            "Round 3 testing accuracy: 0.7484\n",
            "Round 4\n",
            "100%|███████████████████████████████████████████████████████████████| 10/10 [00:30<00:00,  3.02s/it]\n",
            "Round 4 testing accuracy: 0.7648\n",
            "Round 5\n",
            "100%|███████████████████████████████████████████████████████████████| 10/10 [00:32<00:00,  3.29s/it]\n",
            "Round 5 testing accuracy: 0.7727\n",
            "Round 6\n",
            "100%|███████████████████████████████████████████████████████████████| 10/10 [00:37<00:00,  3.74s/it]\n",
            "Round 6 testing accuracy: 0.7821\n",
            "Round 7\n",
            "100%|███████████████████████████████████████████████████████████████| 10/10 [00:39<00:00,  3.98s/it]\n",
            "Round 7 testing accuracy: 0.771\n",
            "Round 8\n",
            "100%|███████████████████████████████████████████████████████████████| 10/10 [00:45<00:00,  4.52s/it]\n",
            "Round 8 testing accuracy: 0.7787\n",
            "Round 9\n",
            "100%|███████████████████████████████████████████████████████████████| 10/10 [00:47<00:00,  4.71s/it]\n",
            "Round 9 testing accuracy: 0.8064\n",
            "Round 10\n",
            "100%|███████████████████████████████████████████████████████████████| 10/10 [00:49<00:00,  4.94s/it]\n",
            "Round 10 testing accuracy: 0.8038\n"
          ]
        }
      ]
    },
    {
      "cell_type": "markdown",
      "source": [
        "# **CIFAR10**"
      ],
      "metadata": {
        "id": "GBrjg9wi17Pf"
      }
    },
    {
      "cell_type": "code",
      "source": [
        "!python /content/deep-active-learning/demo.py  --seed 1 --n_init_labeled 5000 --n_query 1000 --n_round 10 --dataset_name 'CIFAR10' --strategy_name 'MarginSampling'"
      ],
      "metadata": {
        "colab": {
          "base_uri": "https://localhost:8080/"
        },
        "id": "uAhHV_t21cX4",
        "outputId": "a5c8c328-3555-4cf1-cbb1-e044836c8bd7"
      },
      "execution_count": 10,
      "outputs": [
        {
          "output_type": "stream",
          "name": "stdout",
          "text": [
            "{'dataset_name': 'CIFAR10',\n",
            " 'n_init_labeled': 5000,\n",
            " 'n_query': 1000,\n",
            " 'n_round': 10,\n",
            " 'seed': 1,\n",
            " 'strategy_name': 'MarginSampling'}\n",
            "\n",
            "Downloading https://www.cs.toronto.edu/~kriz/cifar-10-python.tar.gz to ./data/CIFAR10/cifar-10-python.tar.gz\n",
            "100% 170498071/170498071 [00:02<00:00, 73353443.61it/s]\n",
            "Extracting ./data/CIFAR10/cifar-10-python.tar.gz to ./data/CIFAR10\n",
            "Files already downloaded and verified\n",
            "number of labeled pool: 5000\n",
            "number of unlabeled pool: 35000\n",
            "number of testing pool: 10000\n",
            "\n",
            "Round 0\n",
            "100%|███████████████████████████████████████████████████████████████| 20/20 [00:44<00:00,  2.23s/it]\n",
            "Round 0 testing accuracy: 0.5016\n",
            "Round 1\n",
            "100%|███████████████████████████████████████████████████████████████| 20/20 [00:51<00:00,  2.58s/it]\n",
            "Round 1 testing accuracy: 0.5094\n",
            "Round 2\n",
            "100%|███████████████████████████████████████████████████████████████| 20/20 [00:58<00:00,  2.91s/it]\n",
            "Round 2 testing accuracy: 0.5\n",
            "Round 3\n",
            "100%|███████████████████████████████████████████████████████████████| 20/20 [01:07<00:00,  3.38s/it]\n",
            "Round 3 testing accuracy: 0.5524\n",
            "Round 4\n",
            "100%|███████████████████████████████████████████████████████████████| 20/20 [01:15<00:00,  3.77s/it]\n",
            "Round 4 testing accuracy: 0.5665\n",
            "Round 5\n",
            "100%|███████████████████████████████████████████████████████████████| 20/20 [01:23<00:00,  4.19s/it]\n",
            "Round 5 testing accuracy: 0.5373\n",
            "Round 6\n",
            "100%|███████████████████████████████████████████████████████████████| 20/20 [01:31<00:00,  4.58s/it]\n",
            "Round 6 testing accuracy: 0.5836\n",
            "Round 7\n",
            "100%|███████████████████████████████████████████████████████████████| 20/20 [01:39<00:00,  4.99s/it]\n",
            "Round 7 testing accuracy: 0.5831\n",
            "Round 8\n",
            "100%|███████████████████████████████████████████████████████████████| 20/20 [01:48<00:00,  5.43s/it]\n",
            "Round 8 testing accuracy: 0.4821\n",
            "Round 9\n",
            "100%|███████████████████████████████████████████████████████████████| 20/20 [01:55<00:00,  5.80s/it]\n",
            "Round 9 testing accuracy: 0.6113\n",
            "Round 10\n",
            "100%|███████████████████████████████████████████████████████████████| 20/20 [02:05<00:00,  6.26s/it]\n",
            "Round 10 testing accuracy: 0.5956\n"
          ]
        }
      ]
    },
    {
      "cell_type": "code",
      "source": [
        "!python /content/deep-active-learning/demo.py  --seed 1 --n_init_labeled 5000 --n_query 1000 --n_round 10 --dataset_name 'CIFAR10' --strategy_name 'LeastConfidence'"
      ],
      "metadata": {
        "colab": {
          "base_uri": "https://localhost:8080/"
        },
        "id": "CLqOdr7b2Udx",
        "outputId": "921fd238-531a-4265-a4c1-b4b859479b5b"
      },
      "execution_count": 11,
      "outputs": [
        {
          "output_type": "stream",
          "name": "stdout",
          "text": [
            "{'dataset_name': 'CIFAR10',\n",
            " 'n_init_labeled': 5000,\n",
            " 'n_query': 1000,\n",
            " 'n_round': 10,\n",
            " 'seed': 1,\n",
            " 'strategy_name': 'LeastConfidence'}\n",
            "\n",
            "Files already downloaded and verified\n",
            "Files already downloaded and verified\n",
            "number of labeled pool: 5000\n",
            "number of unlabeled pool: 35000\n",
            "number of testing pool: 10000\n",
            "\n",
            "Round 0\n",
            "100%|███████████████████████████████████████████████████████████████| 20/20 [00:43<00:00,  2.19s/it]\n",
            "Round 0 testing accuracy: 0.5016\n",
            "Round 1\n",
            "100%|███████████████████████████████████████████████████████████████| 20/20 [00:51<00:00,  2.55s/it]\n",
            "Round 1 testing accuracy: 0.5325\n",
            "Round 2\n",
            "100%|███████████████████████████████████████████████████████████████| 20/20 [00:59<00:00,  2.97s/it]\n",
            "Round 2 testing accuracy: 0.4984\n",
            "Round 3\n",
            "100%|███████████████████████████████████████████████████████████████| 20/20 [01:08<00:00,  3.41s/it]\n",
            "Round 3 testing accuracy: 0.5596\n",
            "Round 4\n",
            "100%|███████████████████████████████████████████████████████████████| 20/20 [01:15<00:00,  3.79s/it]\n",
            "Round 4 testing accuracy: 0.5265\n",
            "Round 5\n",
            "100%|███████████████████████████████████████████████████████████████| 20/20 [01:24<00:00,  4.22s/it]\n",
            "Round 5 testing accuracy: 0.5255\n",
            "Round 6\n",
            "100%|███████████████████████████████████████████████████████████████| 20/20 [01:34<00:00,  4.70s/it]\n",
            "Round 6 testing accuracy: 0.574\n",
            "Round 7\n",
            "100%|███████████████████████████████████████████████████████████████| 20/20 [01:42<00:00,  5.12s/it]\n",
            "Round 7 testing accuracy: 0.5811\n",
            "Round 8\n",
            "100%|███████████████████████████████████████████████████████████████| 20/20 [01:50<00:00,  5.52s/it]\n",
            "Round 8 testing accuracy: 0.4811\n",
            "Round 9\n",
            "100%|███████████████████████████████████████████████████████████████| 20/20 [01:57<00:00,  5.88s/it]\n",
            "Round 9 testing accuracy: 0.6143\n",
            "Round 10\n",
            "100%|███████████████████████████████████████████████████████████████| 20/20 [02:05<00:00,  6.28s/it]\n",
            "Round 10 testing accuracy: 0.505\n"
          ]
        }
      ]
    },
    {
      "cell_type": "code",
      "source": [
        "!python /content/deep-active-learning/demo.py  --seed 1 --n_init_labeled 5000 --n_query 1000 --n_round 10 --dataset_name 'FashionMNIST' --strategy_name 'EntropySampling'"
      ],
      "metadata": {
        "colab": {
          "base_uri": "https://localhost:8080/"
        },
        "id": "fiHOrMiD2jd2",
        "outputId": "2a12a3d3-e2e9-4a51-9b9c-f5e7a32e5127"
      },
      "execution_count": 12,
      "outputs": [
        {
          "output_type": "stream",
          "name": "stdout",
          "text": [
            "{'dataset_name': 'FashionMNIST',\n",
            " 'n_init_labeled': 5000,\n",
            " 'n_query': 1000,\n",
            " 'n_round': 10,\n",
            " 'seed': 1,\n",
            " 'strategy_name': 'EntropySampling'}\n",
            "\n",
            "number of labeled pool: 5000\n",
            "number of unlabeled pool: 35000\n",
            "number of testing pool: 10000\n",
            "\n",
            "Round 0\n",
            "100%|███████████████████████████████████████████████████████████████| 10/10 [00:17<00:00,  1.75s/it]\n",
            "Round 0 testing accuracy: 0.7167\n",
            "Round 1\n",
            "100%|███████████████████████████████████████████████████████████████| 10/10 [00:20<00:00,  2.05s/it]\n",
            "Round 1 testing accuracy: 0.7528\n",
            "Round 2\n",
            "100%|███████████████████████████████████████████████████████████████| 10/10 [00:23<00:00,  2.34s/it]\n",
            "Round 2 testing accuracy: 0.7521\n",
            "Round 3\n",
            "100%|███████████████████████████████████████████████████████████████| 10/10 [00:26<00:00,  2.64s/it]\n",
            "Round 3 testing accuracy: 0.7484\n",
            "Round 4\n",
            "100%|███████████████████████████████████████████████████████████████| 10/10 [00:29<00:00,  2.90s/it]\n",
            "Round 4 testing accuracy: 0.7648\n",
            "Round 5\n",
            "100%|███████████████████████████████████████████████████████████████| 10/10 [00:32<00:00,  3.22s/it]\n",
            "Round 5 testing accuracy: 0.7727\n",
            "Round 6\n",
            "100%|███████████████████████████████████████████████████████████████| 10/10 [00:36<00:00,  3.62s/it]\n",
            "Round 6 testing accuracy: 0.7821\n",
            "Round 7\n",
            "100%|███████████████████████████████████████████████████████████████| 10/10 [00:38<00:00,  3.87s/it]\n",
            "Round 7 testing accuracy: 0.771\n",
            "Round 8\n",
            "100%|███████████████████████████████████████████████████████████████| 10/10 [00:41<00:00,  4.16s/it]\n",
            "Round 8 testing accuracy: 0.7787\n",
            "Round 9\n",
            "100%|███████████████████████████████████████████████████████████████| 10/10 [00:44<00:00,  4.47s/it]\n",
            "Round 9 testing accuracy: 0.8064\n",
            "Round 10\n",
            "100%|███████████████████████████████████████████████████████████████| 10/10 [00:48<00:00,  4.81s/it]\n",
            "Round 10 testing accuracy: 0.8038\n"
          ]
        }
      ]
    },
    {
      "cell_type": "markdown",
      "source": [
        "# **SVHN**"
      ],
      "metadata": {
        "id": "Mm-pj4OX2pKc"
      }
    },
    {
      "cell_type": "code",
      "source": [
        "!python /content/deep-active-learning/demo.py  --seed 1 --n_init_labeled 5000 --n_query 1000 --n_round 10 --dataset_name 'SVHN' --strategy_name 'MarginSampling'"
      ],
      "metadata": {
        "colab": {
          "base_uri": "https://localhost:8080/"
        },
        "id": "yIHaBYIM2qwU",
        "outputId": "f73e7b8c-cc3e-4d6f-f397-9b212d34175a"
      },
      "execution_count": 13,
      "outputs": [
        {
          "output_type": "stream",
          "name": "stdout",
          "text": [
            "{'dataset_name': 'SVHN',\n",
            " 'n_init_labeled': 5000,\n",
            " 'n_query': 1000,\n",
            " 'n_round': 10,\n",
            " 'seed': 1,\n",
            " 'strategy_name': 'MarginSampling'}\n",
            "\n",
            "Downloading http://ufldl.stanford.edu/housenumbers/train_32x32.mat to ./data/SVHN/train_32x32.mat\n",
            "100% 182040794/182040794 [00:03<00:00, 46660452.71it/s]\n",
            "Downloading http://ufldl.stanford.edu/housenumbers/test_32x32.mat to ./data/SVHN/test_32x32.mat\n",
            "100% 64275384/64275384 [00:02<00:00, 31348866.25it/s]\n",
            "number of labeled pool: 5000\n",
            "number of unlabeled pool: 35000\n",
            "number of testing pool: 26032\n",
            "\n",
            "Round 0\n",
            "100%|███████████████████████████████████████████████████████████████| 20/20 [00:43<00:00,  2.18s/it]\n",
            "Round 0 testing accuracy: 0.1958743085433313\n",
            "Round 1\n",
            "100%|███████████████████████████████████████████████████████████████| 20/20 [00:51<00:00,  2.57s/it]\n",
            "Round 1 testing accuracy: 0.22353257529194837\n",
            "Round 2\n",
            "100%|███████████████████████████████████████████████████████████████| 20/20 [00:59<00:00,  2.96s/it]\n",
            "Round 2 testing accuracy: 0.27996312231100184\n",
            "Round 3\n",
            "100%|███████████████████████████████████████████████████████████████| 20/20 [01:07<00:00,  3.37s/it]\n",
            "Round 3 testing accuracy: 0.37803472649047326\n",
            "Round 4\n",
            "100%|███████████████████████████████████████████████████████████████| 20/20 [01:15<00:00,  3.78s/it]\n",
            "Round 4 testing accuracy: 0.7283727719729564\n",
            "Round 5\n",
            "100%|███████████████████████████████████████████████████████████████| 20/20 [01:22<00:00,  4.14s/it]\n",
            "Round 5 testing accuracy: 0.357559926244622\n",
            "Round 6\n",
            "100%|███████████████████████████████████████████████████████████████| 20/20 [01:32<00:00,  4.63s/it]\n",
            "Round 6 testing accuracy: 0.41034111862323297\n",
            "Round 7\n",
            "100%|███████████████████████████████████████████████████████████████| 20/20 [01:40<00:00,  5.04s/it]\n",
            "Round 7 testing accuracy: 0.7738936693300553\n",
            "Round 8\n",
            "100%|███████████████████████████████████████████████████████████████| 20/20 [01:49<00:00,  5.46s/it]\n",
            "Round 8 testing accuracy: 0.3695835894283958\n",
            "Round 9\n",
            "100%|███████████████████████████████████████████████████████████████| 20/20 [01:56<00:00,  5.81s/it]\n",
            "Round 9 testing accuracy: 0.6091733251382914\n",
            "Round 10\n",
            "100%|███████████████████████████████████████████████████████████████| 20/20 [02:06<00:00,  6.33s/it]\n",
            "Round 10 testing accuracy: 0.5547403196066379\n"
          ]
        }
      ]
    },
    {
      "cell_type": "code",
      "source": [
        "!python /content/deep-active-learning/demo.py  --seed 1 --n_init_labeled 5000 --n_query 1000 --n_round 10 --dataset_name 'SVHN' --strategy_name 'LeastConfidence'"
      ],
      "metadata": {
        "colab": {
          "base_uri": "https://localhost:8080/"
        },
        "id": "p6JvGPjS2qwV",
        "outputId": "e9c7c917-9770-4b18-949f-29d30584ea25"
      },
      "execution_count": 14,
      "outputs": [
        {
          "output_type": "stream",
          "name": "stdout",
          "text": [
            "{'dataset_name': 'SVHN',\n",
            " 'n_init_labeled': 5000,\n",
            " 'n_query': 1000,\n",
            " 'n_round': 10,\n",
            " 'seed': 1,\n",
            " 'strategy_name': 'LeastConfidence'}\n",
            "\n",
            "Using downloaded and verified file: ./data/SVHN/train_32x32.mat\n",
            "Using downloaded and verified file: ./data/SVHN/test_32x32.mat\n",
            "number of labeled pool: 5000\n",
            "number of unlabeled pool: 35000\n",
            "number of testing pool: 26032\n",
            "\n",
            "Round 0\n",
            "100%|███████████████████████████████████████████████████████████████| 20/20 [00:44<00:00,  2.23s/it]\n",
            "Round 0 testing accuracy: 0.1958743085433313\n",
            "Round 1\n",
            "100%|███████████████████████████████████████████████████████████████| 20/20 [00:52<00:00,  2.62s/it]\n",
            "Round 1 testing accuracy: 0.19683466502765826\n",
            "Round 2\n",
            "100%|███████████████████████████████████████████████████████████████| 20/20 [00:58<00:00,  2.93s/it]\n",
            "Round 2 testing accuracy: 0.2570682237246466\n",
            "Round 3\n",
            "100%|███████████████████████████████████████████████████████████████| 20/20 [01:06<00:00,  3.32s/it]\n",
            "Round 3 testing accuracy: 0.40050706822372467\n",
            "Round 4\n",
            "100%|███████████████████████████████████████████████████████████████| 20/20 [01:15<00:00,  3.76s/it]\n",
            "Round 4 testing accuracy: 0.6672172710510141\n",
            "Round 5\n",
            "100%|███████████████████████████████████████████████████████████████| 20/20 [01:22<00:00,  4.13s/it]\n",
            "Round 5 testing accuracy: 0.3233328211432084\n",
            "Round 6\n",
            "100%|███████████████████████████████████████████████████████████████| 20/20 [01:30<00:00,  4.54s/it]\n",
            "Round 6 testing accuracy: 0.556699446834665\n",
            "Round 7\n",
            "100%|███████████████████████████████████████████████████████████████| 20/20 [01:41<00:00,  5.06s/it]\n",
            "Round 7 testing accuracy: 0.7468500307314075\n",
            "Round 8\n",
            "100%|███████████████████████████████████████████████████████████████| 20/20 [01:47<00:00,  5.39s/it]\n",
            "Round 8 testing accuracy: 0.3332437000614628\n",
            "Round 9\n",
            "100%|███████████████████████████████████████████████████████████████| 20/20 [01:57<00:00,  5.89s/it]\n",
            "Round 9 testing accuracy: 0.4459895513214505\n",
            "Round 10\n",
            "100%|███████████████████████████████████████████████████████████████| 20/20 [02:03<00:00,  6.18s/it]\n",
            "Round 10 testing accuracy: 0.3816456668715427\n"
          ]
        }
      ]
    },
    {
      "cell_type": "code",
      "source": [
        "!python /content/deep-active-learning/demo.py  --seed 1 --n_init_labeled 5000 --n_query 1000 --n_round 10 --dataset_name 'SVHN' --strategy_name 'EntropySampling'"
      ],
      "metadata": {
        "colab": {
          "base_uri": "https://localhost:8080/"
        },
        "id": "kJQqq-rU2qwW",
        "outputId": "9bb8442a-56ab-4d9b-d8c0-72285a915afa"
      },
      "execution_count": 15,
      "outputs": [
        {
          "output_type": "stream",
          "name": "stdout",
          "text": [
            "{'dataset_name': 'SVHN',\n",
            " 'n_init_labeled': 5000,\n",
            " 'n_query': 1000,\n",
            " 'n_round': 10,\n",
            " 'seed': 1,\n",
            " 'strategy_name': 'EntropySampling'}\n",
            "\n",
            "Using downloaded and verified file: ./data/SVHN/train_32x32.mat\n",
            "Using downloaded and verified file: ./data/SVHN/test_32x32.mat\n",
            "number of labeled pool: 5000\n",
            "number of unlabeled pool: 35000\n",
            "number of testing pool: 26032\n",
            "\n",
            "Round 0\n",
            "100%|███████████████████████████████████████████████████████████████| 20/20 [00:42<00:00,  2.15s/it]\n",
            "Round 0 testing accuracy: 0.1958743085433313\n",
            "Round 1\n",
            "100%|███████████████████████████████████████████████████████████████| 20/20 [00:50<00:00,  2.53s/it]\n",
            "Round 1 testing accuracy: 0.1958743085433313\n",
            "Round 2\n",
            "100%|███████████████████████████████████████████████████████████████| 20/20 [00:59<00:00,  2.96s/it]\n",
            "Round 2 testing accuracy: 0.1958743085433313\n",
            "Round 3\n",
            "100%|███████████████████████████████████████████████████████████████| 20/20 [01:07<00:00,  3.38s/it]\n",
            "Round 3 testing accuracy: 0.24097264904732638\n",
            "Round 4\n",
            "100%|███████████████████████████████████████████████████████████████| 20/20 [01:15<00:00,  3.77s/it]\n",
            "Round 4 testing accuracy: 0.6229640442532268\n",
            "Round 5\n",
            "100%|███████████████████████████████████████████████████████████████| 20/20 [01:22<00:00,  4.15s/it]\n",
            "Round 5 testing accuracy: 0.32521511985248924\n",
            "Round 6\n",
            "100%|███████████████████████████████████████████████████████████████| 20/20 [01:31<00:00,  4.59s/it]\n",
            "Round 6 testing accuracy: 0.5084511370620775\n",
            "Round 7\n",
            "100%|███████████████████████████████████████████████████████████████| 20/20 [01:40<00:00,  5.00s/it]\n",
            "Round 7 testing accuracy: 0.6824677320221266\n",
            "Round 8\n",
            "100%|███████████████████████████████████████████████████████████████| 20/20 [01:47<00:00,  5.37s/it]\n",
            "Round 8 testing accuracy: 0.20520897357098955\n",
            "Round 9\n",
            "100%|███████████████████████████████████████████████████████████████| 20/20 [01:55<00:00,  5.78s/it]\n",
            "Round 9 testing accuracy: 0.33335894283958206\n",
            "Round 10\n",
            "100%|███████████████████████████████████████████████████████████████| 20/20 [02:04<00:00,  6.23s/it]\n",
            "Round 10 testing accuracy: 0.46711739397664415\n"
          ]
        }
      ]
    }
  ]
}